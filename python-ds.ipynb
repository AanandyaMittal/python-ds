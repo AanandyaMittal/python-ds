{
 "cells": [
  {
   "cell_type": "markdown",
   "metadata": {},
   "source": [
    "# Web Mining and Applied NLP (44-620)\n",
    "\n",
    "## Python Notebooks, Basics, and Data Structures\n",
    "\n",
    "### Student Name: Aanandya Mittal\n",
    "\n",
    "### Clickable Link to GitHub Repo: https://github.com/AanandyaMittal/python-ds\n",
    "\n",
    "Perform the tasks described in the Markdown cells below.  When you have completed the assignment make sure your code cells have all been run (and have output beneath them) and ensure you have committed and pushed ALL of your changes to your assignment repository.\n",
    "\n",
    "Every question that requires you to write code will have a code cell underneath it; you may either write your entire solution in that cell or write it in a python file (`.py`), then import and run the appropriate code to answer the question.\n",
    "\n",
    "Do not use external modules (`math`, etc) for this assignment unless you are explicitly instructed to, though you may use built in python functions (`min`, `max`, etc) as you wish."
   ]
  },
  {
   "cell_type": "markdown",
   "metadata": {},
   "source": [
    "1. Modify the Markdown cell above to put your name after \"Student Name:\"; you will be expected to do this in all assignments presented in this format for this class."
   ]
  },
  {
   "cell_type": "markdown",
   "metadata": {},
   "source": [
    "2. Write code that divides any two numbers, stores the result in a variable, and prints the result with an appropriate label."
   ]
  },
  {
   "cell_type": "code",
   "execution_count": 2,
   "metadata": {},
   "outputs": [
    {
     "name": "stdout",
     "output_type": "stream",
     "text": [
      "25.0\n"
     ]
    }
   ],
   "source": [
    "a=50\n",
    "b=2\n",
    "result=(a/b)\n",
    "print(result)"
   ]
  },
  {
   "cell_type": "markdown",
   "metadata": {},
   "source": [
    "3. Using loops (and potentially conditionals), write Python code that prints the factorial of each integer from 1 through 10 (which you can store in a variable if you want). The factorial of an integer is the product of all of the integers of 1 through the number. Print the result with an appropriate label."
   ]
  },
  {
   "cell_type": "code",
   "execution_count": 2,
   "metadata": {},
   "outputs": [
    {
     "name": "stdout",
     "output_type": "stream",
     "text": [
      "The factorial of 1 is: 1\n",
      "The factorial of 2 is: 2\n",
      "The factorial of 3 is: 6\n",
      "The factorial of 4 is: 24\n",
      "The factorial of 5 is: 120\n",
      "The factorial of 6 is: 720\n",
      "The factorial of 7 is: 5040\n",
      "The factorial of 8 is: 40320\n",
      "The factorial of 9 is: 362880\n",
      "The factorial of 10 is: 3628800\n"
     ]
    }
   ],
   "source": [
    "for i in range(1,11):\n",
    "    fac=1\n",
    "    if (i==0 or i==1):\n",
    "        print(f\"The factorial of {i} is: 1\")\n",
    "    else:\n",
    "        for n in range(1,i+1):\n",
    "            fac*=n\n",
    "        print(f\"The factorial of {i} is: {fac}\")"
   ]
  },
  {
   "cell_type": "markdown",
   "metadata": {},
   "source": [
    "4. Write a python function that takes a single parameter and calculates and returns the average (mean) of the values in the parameter (which you may assume is iterable).  Show that your function works by printing the result of calling the function on the list in the cell below."
   ]
  },
  {
   "cell_type": "code",
   "execution_count": 3,
   "metadata": {},
   "outputs": [
    {
     "name": "stdout",
     "output_type": "stream",
     "text": [
      "0.0\n"
     ]
    }
   ],
   "source": [
    "testlist = [1,-1,2,-2,3,-3,4,-4]\n",
    "\n",
    "def avg(list):\n",
    "    average=(sum(list)/len(list))\n",
    "    return average\n",
    "\n",
    "print(avg(testlist))"
   ]
  },
  {
   "cell_type": "markdown",
   "metadata": {},
   "source": [
    "5. Using your mean function above, write a function that calculates the variance of the list of numbers (see https://en.wikipedia.org/wiki/Variance for more information on the formula). In short:\n",
    "* subtract the mean of the elements in the list from every element in the list; store these values in a new list\n",
    "* square every element in the new list and sum the elements together\n",
    "* divide the resulting number by N (where N is the length of the original list)\n",
    "\n",
    "Show the result of calling your function in the lists in the code cell. You must use one or more list comprehensions or map/filter in your code.\n"
   ]
  },
  {
   "cell_type": "code",
   "execution_count": 6,
   "metadata": {},
   "outputs": [
    {
     "name": "stdout",
     "output_type": "stream",
     "text": [
      "The variance of list1 is: 1.13973309\n",
      "The variance of list2 is: 0.9257232841\n"
     ]
    }
   ],
   "source": [
    "list1 = [ 5.670e-1, -1.480e+0, -5.570e-1, -1.470e+0, 7.340e-1, 1.050e+0, 4.480e-1, 2.570e-1, -1.970e+0, -1.460e+0]\n",
    "list2 = [-1.780e+0, 2.640e-1, 1.160e+0, 9.080e-1, 1.780e+0, 1.080e+0, 1.050e+0, -4.630e-2, 1.520e+0, 5.350e-1]\n",
    "# the variances of both lists should be relatively close to 1 (off by less than .15)\n",
    "\n",
    "def variance(list):\n",
    "    average=(sum(list)/len(list))\n",
    "    new_list=[]\n",
    "    for i in list:\n",
    "        new = i-average\n",
    "        new_list.append(new)\n",
    "    sq_total=0\n",
    "    for j in new_list:\n",
    "        sq_total+=(j*j)\n",
    "    result=sq_total/len(list)\n",
    "    return result\n",
    "\n",
    "print(f\"The variance of list1 is: {variance(list1)}\")\n",
    "print(f\"The variance of list2 is: {variance(list2)}\")\n",
    "\n"
   ]
  },
  {
   "cell_type": "markdown",
   "metadata": {},
   "source": [
    "6. Create a list with at least 15 elements in it. Use list slicing to print the following:\n",
    "* The first 5 elements of the list\n",
    "* The last 5 elements of the list\n",
    "* The list reversed (hint, show the entire list with a stride of -1)\n",
    "* Every second element in the list\n",
    "* Every third element in the list (stride of 3)"
   ]
  },
  {
   "cell_type": "code",
   "execution_count": 8,
   "metadata": {},
   "outputs": [
    {
     "name": "stdout",
     "output_type": "stream",
     "text": [
      "The first 5 elements of the list: [2, 4, 6, 8, 10]\n",
      "The last 5 elements of the list: [22, 24, 26, 28, 30]\n",
      "The list reversed: [30, 28, 26, 24, 22, 20, 18, 16, 14, 12, 10, 8, 6, 4, 2]\n",
      "Every second element in the list: [2, 6, 10, 14, 18, 22, 26, 30]\n",
      "Every third element in the list: [2, 8, 14, 20, 26]\n"
     ]
    }
   ],
   "source": [
    "list1=[2,4,6,8,10,12,14,16,18,20,22,24,26,28,30]\n",
    "\n",
    "print(f\"The first 5 elements of the list: {list1[:5]}\")\n",
    "print(f\"The last 5 elements of the list: {list1[-5:]}\")\n",
    "print(f\"The list reversed: {list1[::-1]}\")\n",
    "print(f\"Every second element in the list: {list1[::2]}\")\n",
    "print(f\"Every third element in the list: {list1[::3]}\")"
   ]
  },
  {
   "cell_type": "markdown",
   "metadata": {},
   "source": [
    "7. Build a dictionary that contains the following information about this class (with appropriate names as keys):\n",
    "* The name\n",
    "* The course number\n",
    "* The semester/term in which you are taking this course\n",
    "* The number of credit hours this course counts for\n",
    "* A list of the course learning objectives\n",
    "\n",
    "The majority of this information can be found in the syllabus. Print the dictionary."
   ]
  },
  {
   "cell_type": "code",
   "execution_count": 10,
   "metadata": {},
   "outputs": [
    {
     "name": "stdout",
     "output_type": "stream",
     "text": [
      "{'name': 'Web Mining and Applied Analytics', 'course_num': '44-620', 'semester': 'Spring 2024', 'credit_hrs': 3, 'learning_obj': ['Understand fundamental concepts of web mining', 'Learn various techniques for web data collection and preprocessing', 'Explore methods for analyzing web data to extract useful information', 'Apply machine learning algorithms to web data for prediction and classification', 'Understand ethical considerations and privacy issues in web mining']}\n"
     ]
    }
   ],
   "source": [
    "class_dict = {\"name\": \"Web Mining and Applied Analytics\",\n",
    "              \"course_num\": \"44-620\",\n",
    "              \"semester\": \"Spring 2024\",\n",
    "              \"credit_hrs\": 3,\n",
    "              \"learning_obj\": [\n",
    "                    \"Understand fundamental concepts of web mining\",\n",
    "                    \"Learn various techniques for web data collection and preprocessing\",\n",
    "                    \"Explore methods for analyzing web data to extract useful information\",\n",
    "                    \"Apply machine learning algorithms to web data for prediction and classification\",\n",
    "                    \"Understand ethical considerations and privacy issues in web mining\"\n",
    "                ]\n",
    "}\n",
    "\n",
    "print(class_dict)"
   ]
  },
  {
   "cell_type": "markdown",
   "metadata": {},
   "source": [
    "8.  Given the dictionary defined in the code cell below, print the list of level 3 spells the character has."
   ]
  },
  {
   "cell_type": "code",
   "execution_count": 11,
   "metadata": {},
   "outputs": [
    {
     "name": "stdout",
     "output_type": "stream",
     "text": [
      "Level 3 Spells: ['Mass Healing Word', 'Nondetection', 'Revivify', 'Feign Death', 'Speak with Dead']\n"
     ]
    }
   ],
   "source": [
    "player_character = {'name': 'Kitab',\n",
    "                   'class': [('Cleric: Knowledge', 7)],\n",
    "                   'spells': {'cantrip': ['Guidance', 'Light', 'Thaumaturgy', 'Toll the Dead', 'Word of Radiance'],\n",
    "                             'level 1': ['Command', 'Detect Magic', 'Healing Word', 'Identify', 'Sleep'],\n",
    "                             'level 2': ['Augury', 'Calm Emotions', 'Command', 'Invisibility', 'Lesser Restoration'],\n",
    "                             'level 3': ['Mass Healing Word', 'Nondetection', 'Revivify', 'Feign Death', 'Speak with Dead'],\n",
    "                             'level 4': ['Banishment', 'Confusion']}\n",
    "                   }\n",
    "\n",
    "print(f\"Level 3 Spells: {player_character['spells']['level 3']}\")"
   ]
  },
  {
   "cell_type": "markdown",
   "metadata": {},
   "source": [
    "9. Write code to determine the number of unique elements in the list below.  You MUST use a set in finding your solution.  Print the number of unique values in the list with an appropriate label."
   ]
  },
  {
   "cell_type": "code",
   "execution_count": 12,
   "metadata": {},
   "outputs": [
    {
     "name": "stdout",
     "output_type": "stream",
     "text": [
      "Unique values quantity: 12\n"
     ]
    }
   ],
   "source": [
    "values = [10, 11, 10, 8, 1, 12, 0, 1, 6, 5, 5, 13, 6, 15, 0, 0, 1, 1, 9, 7]\n",
    "unique=set(values)\n",
    "length=len(unique)\n",
    "print(f\"Unique values quantity: {length}\")"
   ]
  },
  {
   "cell_type": "markdown",
   "metadata": {},
   "source": [
    "10. Create a new Jupyter Notebook (the name of the notebook should be your S number). Add a Markdown cell that contains your name. Add a Code cell and write Python that uses loops to draw the following pattern:\n",
    "\n",
    "```\n",
    "*      *\n",
    "**    **\n",
    "***  ***\n",
    "********\n",
    "```\n",
    "Make sure to add and submit both the new notebook and the changes to this notebook for this assignment."
   ]
  }
 ],
 "metadata": {
  "kernelspec": {
   "display_name": "Python 3",
   "language": "python",
   "name": "python3"
  },
  "language_info": {
   "codemirror_mode": {
    "name": "ipython",
    "version": 3
   },
   "file_extension": ".py",
   "mimetype": "text/x-python",
   "name": "python",
   "nbconvert_exporter": "python",
   "pygments_lexer": "ipython3",
   "version": "3.12.1"
  }
 },
 "nbformat": 4,
 "nbformat_minor": 4
}
